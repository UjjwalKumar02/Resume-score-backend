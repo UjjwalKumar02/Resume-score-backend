{
 "cells": [
  {
   "cell_type": "code",
   "execution_count": 1,
   "id": "6841e0ce",
   "metadata": {},
   "outputs": [],
   "source": [
    "import joblib\n",
    "import numpy as np\n",
    "import pandas as pd\n",
    "from sklearn.model_selection import train_test_split\n",
    "from sklearn.ensemble import RandomForestRegressor\n",
    "from sklearn.model_selection import RandomizedSearchCV\n",
    "from sklearn.metrics import mean_absolute_error, mean_squared_error, r2_score"
   ]
  },
  {
   "cell_type": "markdown",
   "id": "a3bc9c1a",
   "metadata": {},
   "source": [
    "### Dataset"
   ]
  },
  {
   "cell_type": "code",
   "execution_count": 2,
   "id": "e8f5ea2b",
   "metadata": {},
   "outputs": [
    {
     "data": {
      "text/html": [
       "<div>\n",
       "<style scoped>\n",
       "    .dataframe tbody tr th:only-of-type {\n",
       "        vertical-align: middle;\n",
       "    }\n",
       "\n",
       "    .dataframe tbody tr th {\n",
       "        vertical-align: top;\n",
       "    }\n",
       "\n",
       "    .dataframe thead th {\n",
       "        text-align: right;\n",
       "    }\n",
       "</style>\n",
       "<table border=\"1\" class=\"dataframe\">\n",
       "  <thead>\n",
       "    <tr style=\"text-align: right;\">\n",
       "      <th></th>\n",
       "      <th>Resume</th>\n",
       "      <th>Job_Description</th>\n",
       "      <th>Tfidf_Similarity</th>\n",
       "      <th>Jaccard_Similarity</th>\n",
       "      <th>Length_Ratio</th>\n",
       "      <th>No_of_Matched_Skills</th>\n",
       "      <th>No_of_Missing_Skills</th>\n",
       "      <th>Category</th>\n",
       "      <th>Score</th>\n",
       "    </tr>\n",
       "  </thead>\n",
       "  <tbody>\n",
       "    <tr>\n",
       "      <th>0</th>\n",
       "      <td>resume_1.pdf</td>\n",
       "      <td>jd_1.txt</td>\n",
       "      <td>0.37</td>\n",
       "      <td>0.06</td>\n",
       "      <td>2.19</td>\n",
       "      <td>8</td>\n",
       "      <td>4</td>\n",
       "      <td>solid</td>\n",
       "      <td>76.0</td>\n",
       "    </tr>\n",
       "    <tr>\n",
       "      <th>1</th>\n",
       "      <td>resume_2.pdf</td>\n",
       "      <td>jd_1.txt</td>\n",
       "      <td>0.33</td>\n",
       "      <td>0.06</td>\n",
       "      <td>1.77</td>\n",
       "      <td>5</td>\n",
       "      <td>7</td>\n",
       "      <td>below-average</td>\n",
       "      <td>38.0</td>\n",
       "    </tr>\n",
       "    <tr>\n",
       "      <th>2</th>\n",
       "      <td>resume_3.pdf</td>\n",
       "      <td>jd_1.txt</td>\n",
       "      <td>0.31</td>\n",
       "      <td>0.03</td>\n",
       "      <td>1.62</td>\n",
       "      <td>0</td>\n",
       "      <td>12</td>\n",
       "      <td>poor</td>\n",
       "      <td>15.0</td>\n",
       "    </tr>\n",
       "    <tr>\n",
       "      <th>3</th>\n",
       "      <td>resume_4.pdf</td>\n",
       "      <td>jd_1.txt</td>\n",
       "      <td>0.38</td>\n",
       "      <td>0.06</td>\n",
       "      <td>1.84</td>\n",
       "      <td>7</td>\n",
       "      <td>5</td>\n",
       "      <td>solid</td>\n",
       "      <td>71.0</td>\n",
       "    </tr>\n",
       "    <tr>\n",
       "      <th>4</th>\n",
       "      <td>resume_5.pdf</td>\n",
       "      <td>jd_1.txt</td>\n",
       "      <td>0.33</td>\n",
       "      <td>0.05</td>\n",
       "      <td>1.35</td>\n",
       "      <td>0</td>\n",
       "      <td>12</td>\n",
       "      <td>poor</td>\n",
       "      <td>12.0</td>\n",
       "    </tr>\n",
       "  </tbody>\n",
       "</table>\n",
       "</div>"
      ],
      "text/plain": [
       "         Resume Job_Description  Tfidf_Similarity  Jaccard_Similarity  \\\n",
       "0  resume_1.pdf        jd_1.txt              0.37                0.06   \n",
       "1  resume_2.pdf        jd_1.txt              0.33                0.06   \n",
       "2  resume_3.pdf        jd_1.txt              0.31                0.03   \n",
       "3  resume_4.pdf        jd_1.txt              0.38                0.06   \n",
       "4  resume_5.pdf        jd_1.txt              0.33                0.05   \n",
       "\n",
       "   Length_Ratio  No_of_Matched_Skills  No_of_Missing_Skills       Category  \\\n",
       "0          2.19                     8                     4          solid   \n",
       "1          1.77                     5                     7  below-average   \n",
       "2          1.62                     0                    12           poor   \n",
       "3          1.84                     7                     5          solid   \n",
       "4          1.35                     0                    12           poor   \n",
       "\n",
       "   Score  \n",
       "0   76.0  \n",
       "1   38.0  \n",
       "2   15.0  \n",
       "3   71.0  \n",
       "4   12.0  "
      ]
     },
     "execution_count": 2,
     "metadata": {},
     "output_type": "execute_result"
    }
   ],
   "source": [
    "df = pd.read_csv(\"../data/dataset.csv\")\n",
    "df.head()"
   ]
  },
  {
   "cell_type": "markdown",
   "id": "5fde9ed0",
   "metadata": {},
   "source": [
    "### Train test split"
   ]
  },
  {
   "cell_type": "code",
   "execution_count": 3,
   "id": "59666937",
   "metadata": {},
   "outputs": [],
   "source": [
    "X = df.drop(columns=[\"Score\", \"Category\", \"Resume\", \"Job_Description\"])\n",
    "y = df[\"Score\"]\n",
    "\n",
    "X_train, X_test, y_train, y_test = train_test_split(X, y, test_size=0.2, random_state=42)"
   ]
  },
  {
   "cell_type": "markdown",
   "id": "73ef0582",
   "metadata": {},
   "source": [
    "### Model Training"
   ]
  },
  {
   "cell_type": "code",
   "execution_count": 4,
   "id": "7df851a2",
   "metadata": {},
   "outputs": [],
   "source": [
    "model = RandomForestRegressor()\n",
    "\n",
    "model.fit(X_train, y_train)\n",
    "\n",
    "y_pred = model.predict(X_test)"
   ]
  },
  {
   "cell_type": "markdown",
   "id": "d3d36aff",
   "metadata": {},
   "source": [
    "### Model Performance"
   ]
  },
  {
   "cell_type": "code",
   "execution_count": 5,
   "id": "768493d2",
   "metadata": {},
   "outputs": [
    {
     "name": "stdout",
     "output_type": "stream",
     "text": [
      "MAE:  13.470499999999998\n",
      "RMSE:  17.573730537367414\n",
      "R^2:  0.573377899186363\n"
     ]
    }
   ],
   "source": [
    "print(\"MAE: \", mean_absolute_error(y_test, y_pred))\n",
    "print(\"RMSE: \", np.sqrt(mean_squared_error(y_test, y_pred)))\n",
    "print(\"R^2: \", r2_score(y_test, y_pred))"
   ]
  },
  {
   "cell_type": "markdown",
   "id": "9c02c7fc",
   "metadata": {},
   "source": [
    "## Hyperparameter Tuning"
   ]
  },
  {
   "cell_type": "code",
   "execution_count": 6,
   "id": "cdc169b9",
   "metadata": {},
   "outputs": [
    {
     "name": "stdout",
     "output_type": "stream",
     "text": [
      "Fitting 5 folds for each of 100 candidates, totalling 500 fits\n",
      "Best Parameters: {'n_estimators': 100, 'min_samples_split': 2, 'min_samples_leaf': 4, 'max_features': None, 'max_depth': 50, 'bootstrap': True}\n",
      "Best Score (Neg MSE): -290.47585134442534\n"
     ]
    }
   ],
   "source": [
    "param_dist = {\n",
    "    'n_estimators': [100, 200, 300, 500],\n",
    "    'max_depth': [None, 10, 20, 30, 50],\n",
    "    'min_samples_split': [2, 5, 10],\n",
    "    'min_samples_leaf': [1, 2, 4],\n",
    "    'max_features': ['sqrt', 'log2', None],  # 'auto' removed\n",
    "    'bootstrap': [True, False]\n",
    "}\n",
    "\n",
    "rf = RandomForestRegressor(random_state=42)\n",
    "\n",
    "# Randomized Search CV\n",
    "random_search = RandomizedSearchCV(\n",
    "    estimator=rf,\n",
    "    param_distributions=param_dist,\n",
    "    n_iter=100,  # number of parameter settings sampled\n",
    "    cv=5,\n",
    "    verbose=2,\n",
    "    random_state=42,\n",
    "    n_jobs=-1,  # use all processors\n",
    "    scoring='neg_mean_squared_error'  # or 'r2', 'neg_mean_absolute_error', etc.\n",
    ")\n",
    "\n",
    "random_search.fit(X_train, y_train)\n",
    "\n",
    "print(\"Best Parameters:\", random_search.best_params_)\n",
    "print(\"Best Score (Neg MSE):\", random_search.best_score_)"
   ]
  },
  {
   "cell_type": "code",
   "execution_count": 7,
   "id": "d7442c9b",
   "metadata": {},
   "outputs": [],
   "source": [
    "best_model = random_search.best_estimator_\n",
    "y_pred2 = best_model.predict(X_test)"
   ]
  },
  {
   "cell_type": "code",
   "execution_count": 8,
   "id": "94052ea3",
   "metadata": {},
   "outputs": [
    {
     "name": "stdout",
     "output_type": "stream",
     "text": [
      "MAE:  13.960670538448483\n",
      "RMSE:  17.021006151779744\n",
      "R^2:  0.5997918934412787\n"
     ]
    }
   ],
   "source": [
    "print(\"MAE: \", mean_absolute_error(y_test, y_pred2))\n",
    "print(\"RMSE: \", np.sqrt(mean_squared_error(y_test, y_pred2)))\n",
    "print(\"R^2: \", r2_score(y_test, y_pred2))"
   ]
  },
  {
   "cell_type": "markdown",
   "id": "e0c1cf14",
   "metadata": {},
   "source": [
    "### Prediction of New Data"
   ]
  },
  {
   "cell_type": "code",
   "execution_count": 13,
   "id": "9a681ff2",
   "metadata": {},
   "outputs": [
    {
     "name": "stdout",
     "output_type": "stream",
     "text": [
      "Prediction Score:  81.44173515373517\n"
     ]
    }
   ],
   "source": [
    "sample = pd.DataFrame([{\n",
    "  'Tfidf_Similarity': 0.4,\n",
    "  'Jaccard_Similarity': 0.07,\n",
    "  'Length_Ratio': 1,\n",
    "  'No_of_Matched_Skills': 9,\n",
    "  'No_of_Missing_Skills': 2,\n",
    "}])\n",
    "\n",
    "pred = best_model.predict(sample)\n",
    "print(\"Prediction Score: \", pred[0])"
   ]
  },
  {
   "cell_type": "markdown",
   "id": "ad7fbf5c",
   "metadata": {},
   "source": [
    "### Saving the model"
   ]
  },
  {
   "cell_type": "code",
   "execution_count": 14,
   "id": "77632aef",
   "metadata": {},
   "outputs": [
    {
     "data": {
      "text/plain": [
       "['regressor_model.pkl']"
      ]
     },
     "execution_count": 14,
     "metadata": {},
     "output_type": "execute_result"
    }
   ],
   "source": [
    "joblib.dump(model, \"regressor_model.pkl\")"
   ]
  }
 ],
 "metadata": {
  "kernelspec": {
   "display_name": "Python (venv)",
   "language": "python",
   "name": "venv"
  },
  "language_info": {
   "codemirror_mode": {
    "name": "ipython",
    "version": 3
   },
   "file_extension": ".py",
   "mimetype": "text/x-python",
   "name": "python",
   "nbconvert_exporter": "python",
   "pygments_lexer": "ipython3",
   "version": "3.13.1"
  }
 },
 "nbformat": 4,
 "nbformat_minor": 5
}
