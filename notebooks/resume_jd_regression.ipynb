{
 "cells": [
  {
   "cell_type": "code",
   "execution_count": 12,
   "id": "6841e0ce",
   "metadata": {},
   "outputs": [],
   "source": [
    "import pandas as pd\n",
    "from sklearn.model_selection import train_test_split\n",
    "from sklearn.ensemble import RandomForestRegressor\n",
    "from sklearn.metrics import mean_absolute_error, mean_squared_error, r2_score\n",
    "import numpy as np\n",
    "import joblib"
   ]
  },
  {
   "cell_type": "markdown",
   "id": "a3bc9c1a",
   "metadata": {},
   "source": [
    "### Dataset"
   ]
  },
  {
   "cell_type": "code",
   "execution_count": 13,
   "id": "e8f5ea2b",
   "metadata": {},
   "outputs": [
    {
     "data": {
      "text/html": [
       "<div>\n",
       "<style scoped>\n",
       "    .dataframe tbody tr th:only-of-type {\n",
       "        vertical-align: middle;\n",
       "    }\n",
       "\n",
       "    .dataframe tbody tr th {\n",
       "        vertical-align: top;\n",
       "    }\n",
       "\n",
       "    .dataframe thead th {\n",
       "        text-align: right;\n",
       "    }\n",
       "</style>\n",
       "<table border=\"1\" class=\"dataframe\">\n",
       "  <thead>\n",
       "    <tr style=\"text-align: right;\">\n",
       "      <th></th>\n",
       "      <th>Resume</th>\n",
       "      <th>Job_Description</th>\n",
       "      <th>Tfidf_Similarity</th>\n",
       "      <th>Bert_Similarity</th>\n",
       "      <th>No_of_Matched_Skills</th>\n",
       "      <th>No_of_Missing_Skills</th>\n",
       "      <th>Category</th>\n",
       "      <th>Score</th>\n",
       "    </tr>\n",
       "  </thead>\n",
       "  <tbody>\n",
       "    <tr>\n",
       "      <th>0</th>\n",
       "      <td>resume_1.pdf</td>\n",
       "      <td>jd_1.txt</td>\n",
       "      <td>0.37</td>\n",
       "      <td>0.33</td>\n",
       "      <td>7</td>\n",
       "      <td>5</td>\n",
       "      <td>solid</td>\n",
       "      <td>76.0</td>\n",
       "    </tr>\n",
       "    <tr>\n",
       "      <th>1</th>\n",
       "      <td>resume_2.pdf</td>\n",
       "      <td>jd_1.txt</td>\n",
       "      <td>0.33</td>\n",
       "      <td>0.30</td>\n",
       "      <td>5</td>\n",
       "      <td>7</td>\n",
       "      <td>below-average</td>\n",
       "      <td>38.0</td>\n",
       "    </tr>\n",
       "    <tr>\n",
       "      <th>2</th>\n",
       "      <td>resume_3.pdf</td>\n",
       "      <td>jd_1.txt</td>\n",
       "      <td>0.31</td>\n",
       "      <td>0.11</td>\n",
       "      <td>0</td>\n",
       "      <td>12</td>\n",
       "      <td>poor</td>\n",
       "      <td>15.0</td>\n",
       "    </tr>\n",
       "    <tr>\n",
       "      <th>3</th>\n",
       "      <td>resume_4.pdf</td>\n",
       "      <td>jd_1.txt</td>\n",
       "      <td>0.38</td>\n",
       "      <td>0.47</td>\n",
       "      <td>7</td>\n",
       "      <td>5</td>\n",
       "      <td>solid</td>\n",
       "      <td>71.0</td>\n",
       "    </tr>\n",
       "    <tr>\n",
       "      <th>4</th>\n",
       "      <td>resume_5.pdf</td>\n",
       "      <td>jd_1.txt</td>\n",
       "      <td>0.33</td>\n",
       "      <td>0.25</td>\n",
       "      <td>0</td>\n",
       "      <td>12</td>\n",
       "      <td>poor</td>\n",
       "      <td>12.0</td>\n",
       "    </tr>\n",
       "  </tbody>\n",
       "</table>\n",
       "</div>"
      ],
      "text/plain": [
       "         Resume Job_Description  ...       Category  Score\n",
       "0  resume_1.pdf        jd_1.txt  ...          solid   76.0\n",
       "1  resume_2.pdf        jd_1.txt  ...  below-average   38.0\n",
       "2  resume_3.pdf        jd_1.txt  ...           poor   15.0\n",
       "3  resume_4.pdf        jd_1.txt  ...          solid   71.0\n",
       "4  resume_5.pdf        jd_1.txt  ...           poor   12.0\n",
       "\n",
       "[5 rows x 8 columns]"
      ]
     },
     "execution_count": 13,
     "metadata": {},
     "output_type": "execute_result"
    }
   ],
   "source": [
    "df = pd.read_csv(\"../data/dataset.csv\")\n",
    "df.head()"
   ]
  },
  {
   "cell_type": "markdown",
   "id": "5fde9ed0",
   "metadata": {},
   "source": [
    "### Train test split"
   ]
  },
  {
   "cell_type": "code",
   "execution_count": 14,
   "id": "59666937",
   "metadata": {},
   "outputs": [],
   "source": [
    "X = df.drop(columns=[\"Score\", \"Category\", \"Resume\", \"Job_Description\"])\n",
    "y = df[\"Score\"]\n",
    "\n",
    "X_train, X_test, y_train, y_test = train_test_split(X, y, test_size=0.2, random_state=42)"
   ]
  },
  {
   "cell_type": "markdown",
   "id": "73ef0582",
   "metadata": {},
   "source": [
    "### Model Training"
   ]
  },
  {
   "cell_type": "code",
   "execution_count": 15,
   "id": "7df851a2",
   "metadata": {},
   "outputs": [],
   "source": [
    "model = RandomForestRegressor(\n",
    "  n_estimators=300,\n",
    "  max_depth=10,\n",
    "  max_features='sqrt',\n",
    "  min_samples_leaf=2,\n",
    "  min_samples_split=2,\n",
    "  bootstrap=True,\n",
    "  random_state=42\n",
    ")\n",
    "\n",
    "model.fit(X_train, y_train)\n",
    "\n",
    "y_pred = model.predict(X_test)"
   ]
  },
  {
   "cell_type": "markdown",
   "id": "d3d36aff",
   "metadata": {},
   "source": [
    "### Model Performance"
   ]
  },
  {
   "cell_type": "code",
   "execution_count": 16,
   "id": "768493d2",
   "metadata": {},
   "outputs": [
    {
     "name": "stdout",
     "output_type": "stream",
     "text": [
      "MAE:  12.789666411135162\n",
      "RMSE:  16.926376816546885\n",
      "R^2:  0.5945882091735402\n"
     ]
    }
   ],
   "source": [
    "print(\"MAE: \", mean_absolute_error(y_test, y_pred))\n",
    "print(\"RMSE: \", np.sqrt(mean_squared_error(y_test, y_pred)))\n",
    "print(\"R^2: \", r2_score(y_test, y_pred))"
   ]
  },
  {
   "cell_type": "markdown",
   "id": "e0c1cf14",
   "metadata": {},
   "source": [
    "### Prediction of New Data"
   ]
  },
  {
   "cell_type": "code",
   "execution_count": 19,
   "id": "9a681ff2",
   "metadata": {},
   "outputs": [
    {
     "name": "stdout",
     "output_type": "stream",
     "text": [
      "Prediction category:  80.84658730158732\n"
     ]
    }
   ],
   "source": [
    "sample = pd.DataFrame([{\n",
    "  'Tfidf_Similarity': 0.35,\n",
    "  'Bert_Similarity': 0.30,\n",
    "  'No_of_Matched_Skills': 7,\n",
    "  'No_of_Missing_Skills': 0,\n",
    "}])\n",
    "\n",
    "pred = model.predict(sample)\n",
    "print(\"Prediction category: \", pred[0])"
   ]
  },
  {
   "cell_type": "markdown",
   "id": "ad7fbf5c",
   "metadata": {},
   "source": [
    "### Saving the model"
   ]
  },
  {
   "cell_type": "code",
   "execution_count": 20,
   "id": "77632aef",
   "metadata": {},
   "outputs": [
    {
     "data": {
      "text/plain": [
       "['regressor_model.pkl']"
      ]
     },
     "execution_count": 20,
     "metadata": {},
     "output_type": "execute_result"
    }
   ],
   "source": [
    "joblib.dump(model, \"regressor_model.pkl\")"
   ]
  }
 ],
 "metadata": {
  "kernelspec": {
   "display_name": "Python (venv)",
   "language": "python",
   "name": "venv"
  },
  "language_info": {
   "codemirror_mode": {
    "name": "ipython",
    "version": 3
   },
   "file_extension": ".py",
   "mimetype": "text/x-python",
   "name": "python",
   "nbconvert_exporter": "python",
   "pygments_lexer": "ipython3",
   "version": "3.13.1"
  }
 },
 "nbformat": 4,
 "nbformat_minor": 5
}
