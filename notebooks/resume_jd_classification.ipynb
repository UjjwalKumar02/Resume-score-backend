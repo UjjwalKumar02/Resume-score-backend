{
 "cells": [
  {
   "cell_type": "code",
   "execution_count": 1,
   "id": "5071c832",
   "metadata": {},
   "outputs": [],
   "source": [
    "import joblib\n",
    "import pandas as pd\n",
    "from sklearn.preprocessing import LabelEncoder\n",
    "from sklearn.model_selection import train_test_split\n",
    "from sklearn.ensemble import RandomForestClassifier\n",
    "from sklearn.metrics import classification_report, confusion_matrix"
   ]
  },
  {
   "cell_type": "markdown",
   "id": "e465cd94",
   "metadata": {},
   "source": [
    "### Dataset"
   ]
  },
  {
   "cell_type": "code",
   "execution_count": 2,
   "id": "cb34f221",
   "metadata": {},
   "outputs": [
    {
     "data": {
      "text/html": [
       "<div>\n",
       "<style scoped>\n",
       "    .dataframe tbody tr th:only-of-type {\n",
       "        vertical-align: middle;\n",
       "    }\n",
       "\n",
       "    .dataframe tbody tr th {\n",
       "        vertical-align: top;\n",
       "    }\n",
       "\n",
       "    .dataframe thead th {\n",
       "        text-align: right;\n",
       "    }\n",
       "</style>\n",
       "<table border=\"1\" class=\"dataframe\">\n",
       "  <thead>\n",
       "    <tr style=\"text-align: right;\">\n",
       "      <th></th>\n",
       "      <th>Resume</th>\n",
       "      <th>Job_Description</th>\n",
       "      <th>Tfidf_Similarity</th>\n",
       "      <th>Jaccard_Similarity</th>\n",
       "      <th>Length_Ratio</th>\n",
       "      <th>No_of_Matched_Skills</th>\n",
       "      <th>No_of_Missing_Skills</th>\n",
       "      <th>Category</th>\n",
       "      <th>Score</th>\n",
       "    </tr>\n",
       "  </thead>\n",
       "  <tbody>\n",
       "    <tr>\n",
       "      <th>0</th>\n",
       "      <td>resume_1.pdf</td>\n",
       "      <td>jd_1.txt</td>\n",
       "      <td>0.37</td>\n",
       "      <td>0.06</td>\n",
       "      <td>2.19</td>\n",
       "      <td>8</td>\n",
       "      <td>4</td>\n",
       "      <td>solid</td>\n",
       "      <td>76.0</td>\n",
       "    </tr>\n",
       "    <tr>\n",
       "      <th>1</th>\n",
       "      <td>resume_2.pdf</td>\n",
       "      <td>jd_1.txt</td>\n",
       "      <td>0.33</td>\n",
       "      <td>0.06</td>\n",
       "      <td>1.77</td>\n",
       "      <td>5</td>\n",
       "      <td>7</td>\n",
       "      <td>below-average</td>\n",
       "      <td>38.0</td>\n",
       "    </tr>\n",
       "    <tr>\n",
       "      <th>2</th>\n",
       "      <td>resume_3.pdf</td>\n",
       "      <td>jd_1.txt</td>\n",
       "      <td>0.31</td>\n",
       "      <td>0.03</td>\n",
       "      <td>1.62</td>\n",
       "      <td>0</td>\n",
       "      <td>12</td>\n",
       "      <td>poor</td>\n",
       "      <td>15.0</td>\n",
       "    </tr>\n",
       "    <tr>\n",
       "      <th>3</th>\n",
       "      <td>resume_4.pdf</td>\n",
       "      <td>jd_1.txt</td>\n",
       "      <td>0.38</td>\n",
       "      <td>0.06</td>\n",
       "      <td>1.84</td>\n",
       "      <td>7</td>\n",
       "      <td>5</td>\n",
       "      <td>solid</td>\n",
       "      <td>71.0</td>\n",
       "    </tr>\n",
       "    <tr>\n",
       "      <th>4</th>\n",
       "      <td>resume_5.pdf</td>\n",
       "      <td>jd_1.txt</td>\n",
       "      <td>0.33</td>\n",
       "      <td>0.05</td>\n",
       "      <td>1.35</td>\n",
       "      <td>0</td>\n",
       "      <td>12</td>\n",
       "      <td>poor</td>\n",
       "      <td>12.0</td>\n",
       "    </tr>\n",
       "  </tbody>\n",
       "</table>\n",
       "</div>"
      ],
      "text/plain": [
       "         Resume Job_Description  Tfidf_Similarity  Jaccard_Similarity  \\\n",
       "0  resume_1.pdf        jd_1.txt              0.37                0.06   \n",
       "1  resume_2.pdf        jd_1.txt              0.33                0.06   \n",
       "2  resume_3.pdf        jd_1.txt              0.31                0.03   \n",
       "3  resume_4.pdf        jd_1.txt              0.38                0.06   \n",
       "4  resume_5.pdf        jd_1.txt              0.33                0.05   \n",
       "\n",
       "   Length_Ratio  No_of_Matched_Skills  No_of_Missing_Skills       Category  \\\n",
       "0          2.19                     8                     4          solid   \n",
       "1          1.77                     5                     7  below-average   \n",
       "2          1.62                     0                    12           poor   \n",
       "3          1.84                     7                     5          solid   \n",
       "4          1.35                     0                    12           poor   \n",
       "\n",
       "   Score  \n",
       "0   76.0  \n",
       "1   38.0  \n",
       "2   15.0  \n",
       "3   71.0  \n",
       "4   12.0  "
      ]
     },
     "execution_count": 2,
     "metadata": {},
     "output_type": "execute_result"
    }
   ],
   "source": [
    "df = pd.read_csv(\"../data/dataset.csv\")\n",
    "df.head()"
   ]
  },
  {
   "cell_type": "code",
   "execution_count": 3,
   "id": "edd01a93",
   "metadata": {},
   "outputs": [
    {
     "data": {
      "text/plain": [
       "Category\n",
       "average          19\n",
       "below-average    16\n",
       "perfect          11\n",
       "poor             21\n",
       "solid            33\n",
       "dtype: int64"
      ]
     },
     "execution_count": 3,
     "metadata": {},
     "output_type": "execute_result"
    }
   ],
   "source": [
    "df.groupby(\"Category\").size()"
   ]
  },
  {
   "cell_type": "markdown",
   "id": "a189c2ed",
   "metadata": {},
   "source": [
    "### Preprocessing"
   ]
  },
  {
   "cell_type": "code",
   "execution_count": 4,
   "id": "6e06b0b0",
   "metadata": {},
   "outputs": [],
   "source": [
    "features = ['Tfidf_Similarity', 'Jaccard_Similarity', 'Length_Ratio', 'No_of_Matched_Skills', 'No_of_Missing_Skills', 'Score']\n",
    "target = 'Category'\n",
    "\n",
    "X = df[features]\n",
    "y = df[target]\n",
    "\n",
    "label_encoder = LabelEncoder()\n",
    "y_encoded = label_encoder.fit_transform(y)\n",
    "\n",
    "X_train, X_test, y_train, y_test = train_test_split(X, y_encoded, test_size=0.2, random_state=42, stratify=y_encoded)"
   ]
  },
  {
   "cell_type": "markdown",
   "id": "74684765",
   "metadata": {},
   "source": [
    "### Model Training"
   ]
  },
  {
   "cell_type": "code",
   "execution_count": 5,
   "id": "50d45fcd",
   "metadata": {},
   "outputs": [],
   "source": [
    "model = RandomForestClassifier(random_state=42)\n",
    "\n",
    "model.fit(X_train, y_train)\n",
    "\n",
    "y_pred = model.predict(X_test)"
   ]
  },
  {
   "cell_type": "markdown",
   "id": "bfabe99e",
   "metadata": {},
   "source": [
    "### Model Performance"
   ]
  },
  {
   "cell_type": "code",
   "execution_count": 6,
   "id": "7fd87c7d",
   "metadata": {},
   "outputs": [
    {
     "name": "stdout",
     "output_type": "stream",
     "text": [
      "               precision    recall  f1-score   support\n",
      "\n",
      "      average       1.00      1.00      1.00         4\n",
      "below-average       1.00      1.00      1.00         3\n",
      "      perfect       1.00      0.50      0.67         2\n",
      "         poor       1.00      1.00      1.00         4\n",
      "        solid       0.88      1.00      0.93         7\n",
      "\n",
      "     accuracy                           0.95        20\n",
      "    macro avg       0.97      0.90      0.92        20\n",
      " weighted avg       0.96      0.95      0.94        20\n",
      "\n",
      "[[4 0 0 0 0]\n",
      " [0 3 0 0 0]\n",
      " [0 0 1 0 1]\n",
      " [0 0 0 4 0]\n",
      " [0 0 0 0 7]]\n"
     ]
    }
   ],
   "source": [
    "y_test_labels = label_encoder.inverse_transform(y_test)\n",
    "y_pred_labels = label_encoder.inverse_transform(y_pred)\n",
    "\n",
    "print(classification_report(y_test_labels, y_pred_labels))\n",
    "print(confusion_matrix(y_test_labels, y_pred_labels))"
   ]
  },
  {
   "cell_type": "markdown",
   "id": "96a998dd",
   "metadata": {},
   "source": [
    "### Prediction of New data"
   ]
  },
  {
   "cell_type": "code",
   "execution_count": 10,
   "id": "efb9a0a1",
   "metadata": {},
   "outputs": [
    {
     "name": "stdout",
     "output_type": "stream",
     "text": [
      "Prediction category:  solid\n"
     ]
    }
   ],
   "source": [
    "sample = pd.DataFrame([{\n",
    "  'Tfidf_Similarity': 0.4,\n",
    "  'Jaccard_Similarity': 0.07,\n",
    "  'Length_Ratio': 1,\n",
    "  'No_of_Matched_Skills': 9,\n",
    "  'No_of_Missing_Skills': 2,\n",
    "  'Score': 81.09\n",
    "}])\n",
    "\n",
    "pred = model.predict(sample)\n",
    "pred_label = label_encoder.inverse_transform(pred)\n",
    "print(\"Prediction category: \", pred_label[0])"
   ]
  },
  {
   "cell_type": "markdown",
   "id": "5d40c155",
   "metadata": {},
   "source": [
    "### Saving the model"
   ]
  },
  {
   "cell_type": "code",
   "execution_count": 11,
   "id": "4a4e994b",
   "metadata": {},
   "outputs": [
    {
     "data": {
      "text/plain": [
       "['encoder.pkl']"
      ]
     },
     "execution_count": 11,
     "metadata": {},
     "output_type": "execute_result"
    }
   ],
   "source": [
    "joblib.dump(model, \"classifier_model.pkl\")\n",
    "joblib.dump(label_encoder, \"encoder.pkl\")"
   ]
  }
 ],
 "metadata": {
  "kernelspec": {
   "display_name": "Python (venv)",
   "language": "python",
   "name": "venv"
  },
  "language_info": {
   "codemirror_mode": {
    "name": "ipython",
    "version": 3
   },
   "file_extension": ".py",
   "mimetype": "text/x-python",
   "name": "python",
   "nbconvert_exporter": "python",
   "pygments_lexer": "ipython3",
   "version": "3.13.1"
  }
 },
 "nbformat": 4,
 "nbformat_minor": 5
}
